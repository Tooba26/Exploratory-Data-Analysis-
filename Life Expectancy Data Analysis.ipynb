{
 "cells": [
  {
   "cell_type": "code",
   "execution_count": 15,
   "id": "443819bd",
   "metadata": {},
   "outputs": [],
   "source": [
    "import numpy as np\n",
    "import pandas as pd\n",
    "import matplotlib.pyplot as plt\n",
    "import seaborn as sns\n",
    "from scipy.stats import ttest_ind\n",
    "import statsmodels.api as sm"
   ]
  },
  {
   "cell_type": "code",
   "execution_count": 2,
   "id": "29e38f51",
   "metadata": {},
   "outputs": [],
   "source": [
    "# Loading the dataset\n",
    "df = pd.read_csv(\"life_expectancy.csv\")"
   ]
  },
  {
   "cell_type": "code",
   "execution_count": 3,
   "id": "2ac77096",
   "metadata": {},
   "outputs": [
    {
     "name": "stdout",
     "output_type": "stream",
     "text": [
      "       Country  Year      Status  Population  Hepatitis B  Measles  Polio  \\\n",
      "0  Afghanistan  2015  Developing  33736494.0         65.0     1154    6.0   \n",
      "1  Afghanistan  2014  Developing    327582.0         62.0      492   58.0   \n",
      "2  Afghanistan  2013  Developing  31731688.0         64.0      430   62.0   \n",
      "3  Afghanistan  2012  Developing   3696958.0         67.0     2787   67.0   \n",
      "4  Afghanistan  2011  Developing   2978599.0         68.0     3013   68.0   \n",
      "\n",
      "   Diphtheria  HIV/AIDS  infant deaths  under-five deaths  Total expenditure  \\\n",
      "0        65.0       0.1             62                 83               8.16   \n",
      "1        62.0       0.1             64                 86               8.18   \n",
      "2        64.0       0.1             66                 89               8.13   \n",
      "3        67.0       0.1             69                 93               8.52   \n",
      "4        68.0       0.1             71                 97               7.87   \n",
      "\n",
      "          GDP   BMI  thinness  1-19 years  Alcohol  Schooling  Life expectancy  \n",
      "0  584.259210  19.1                  17.2     0.01       10.1             65.0  \n",
      "1  612.696514  18.6                  17.5     0.01       10.0             59.9  \n",
      "2  631.744976  18.1                  17.7     0.01        9.9             59.9  \n",
      "3  669.959000  17.6                  17.9     0.01        9.8             59.5  \n",
      "4   63.537231  17.2                  18.2     0.01        9.5             59.2  \n"
     ]
    }
   ],
   "source": [
    "# Displaying first few rows\n",
    "print (df.head()) "
   ]
  },
  {
   "cell_type": "code",
   "execution_count": 4,
   "id": "1b745656",
   "metadata": {},
   "outputs": [
    {
     "name": "stdout",
     "output_type": "stream",
     "text": [
      "              Year    Population  Hepatitis B        Measles        Polio  \\\n",
      "count  2848.000000  2.204000e+03  2306.000000    2848.000000  2829.000000   \n",
      "mean   2007.500000  1.283457e+07    81.076756    2083.082163    82.682220   \n",
      "std       4.610582  6.196094e+07    25.019068   10249.107207    23.434954   \n",
      "min    2000.000000  3.400000e+01     1.000000       0.000000     3.000000   \n",
      "25%    2003.750000  1.967585e+05    77.000000       0.000000    78.000000   \n",
      "50%    2007.500000  1.391756e+06    92.000000      16.000000    93.000000   \n",
      "75%    2011.250000  7.438947e+06    97.000000     336.750000    97.000000   \n",
      "max    2015.000000  1.293859e+09    99.000000  212183.000000    99.000000   \n",
      "\n",
      "        Diphtheria     HIV/AIDS  infant deaths  under-five deaths  \\\n",
      "count  2829.000000  2848.000000    2848.000000        2848.000000   \n",
      "mean     82.451396     1.756461      28.359902          39.500000   \n",
      "std      23.693936     5.148935     117.188032         159.800866   \n",
      "min       2.000000     0.100000       0.000000           0.000000   \n",
      "25%      78.000000     0.100000       0.000000           0.000000   \n",
      "50%      93.000000     0.100000       3.000000           4.000000   \n",
      "75%      97.000000     0.700000      20.000000          25.000000   \n",
      "max      99.000000    50.600000    1800.000000        2500.000000   \n",
      "\n",
      "       Total expenditure            GDP          BMI  thinness  1-19 years  \\\n",
      "count        2627.000000    2406.000000  2816.000000           2816.000000   \n",
      "mean            5.935577    7664.398813    38.503374              4.847230   \n",
      "std             2.504439   14466.241793    19.955485              4.443695   \n",
      "min             0.370000       1.681350     1.000000              0.100000   \n",
      "25%             4.240000     477.541713    19.500000              1.600000   \n",
      "50%             5.760000    1841.086830    43.900000              3.300000   \n",
      "75%             7.530000    6265.658907    56.200000              7.125000   \n",
      "max            17.600000  119172.741800    77.600000             27.700000   \n",
      "\n",
      "           Alcohol    Schooling  Life expectancy  \n",
      "count  2660.000000  2688.000000      2848.000000  \n",
      "mean      4.638932    12.060156        69.347402  \n",
      "std       4.064721     3.320160         9.528332  \n",
      "min       0.010000     0.000000        36.300000  \n",
      "25%       0.930000    10.200000        63.500000  \n",
      "50%       3.785000    12.400000        72.200000  \n",
      "75%       7.810000    14.300000        75.800000  \n",
      "max      17.870000    20.700000        89.000000  \n"
     ]
    }
   ],
   "source": [
    "# Displaying descriptive statistics of the dataset\n",
    "print(df.describe())"
   ]
  },
  {
   "cell_type": "code",
   "execution_count": 5,
   "id": "093bec5d",
   "metadata": {},
   "outputs": [
    {
     "name": "stdout",
     "output_type": "stream",
     "text": [
      "<class 'pandas.core.frame.DataFrame'>\n",
      "RangeIndex: 2848 entries, 0 to 2847\n",
      "Data columns (total 18 columns):\n",
      " #   Column                Non-Null Count  Dtype  \n",
      "---  ------                --------------  -----  \n",
      " 0   Country               2848 non-null   object \n",
      " 1   Year                  2848 non-null   int64  \n",
      " 2   Status                2848 non-null   object \n",
      " 3   Population            2204 non-null   float64\n",
      " 4   Hepatitis B           2306 non-null   float64\n",
      " 5   Measles               2848 non-null   int64  \n",
      " 6   Polio                 2829 non-null   float64\n",
      " 7   Diphtheria            2829 non-null   float64\n",
      " 8   HIV/AIDS              2848 non-null   float64\n",
      " 9   infant deaths         2848 non-null   int64  \n",
      " 10  under-five deaths     2848 non-null   int64  \n",
      " 11  Total expenditure     2627 non-null   float64\n",
      " 12  GDP                   2406 non-null   float64\n",
      " 13  BMI                   2816 non-null   float64\n",
      " 14  thinness  1-19 years  2816 non-null   float64\n",
      " 15  Alcohol               2660 non-null   float64\n",
      " 16  Schooling             2688 non-null   float64\n",
      " 17  Life expectancy       2848 non-null   float64\n",
      "dtypes: float64(12), int64(4), object(2)\n",
      "memory usage: 400.6+ KB\n",
      "None\n"
     ]
    }
   ],
   "source": [
    "# Displaying information about the dataset\n",
    "print(df.info())"
   ]
  },
  {
   "cell_type": "code",
   "execution_count": 6,
   "id": "32005270",
   "metadata": {},
   "outputs": [],
   "source": [
    "# Duplicates\n",
    "df = df.drop_duplicates()"
   ]
  },
  {
   "cell_type": "code",
   "execution_count": 7,
   "id": "44f61dbd",
   "metadata": {},
   "outputs": [
    {
     "name": "stdout",
     "output_type": "stream",
     "text": [
      "Country                   0\n",
      "Year                      0\n",
      "Status                    0\n",
      "Population              644\n",
      "Hepatitis B             542\n",
      "Measles                   0\n",
      "Polio                    19\n",
      "Diphtheria               19\n",
      "HIV/AIDS                  0\n",
      "infant deaths             0\n",
      "under-five deaths         0\n",
      "Total expenditure       221\n",
      "GDP                     442\n",
      "BMI                      32\n",
      "thinness  1-19 years     32\n",
      "Alcohol                 188\n",
      "Schooling               160\n",
      "Life expectancy           0\n",
      "dtype: int64\n"
     ]
    }
   ],
   "source": [
    "# Data Cleaning and Feature Engineering\n",
    "missing_values = df.isnull().sum()\n",
    "print(missing_values)"
   ]
  },
  {
   "cell_type": "code",
   "execution_count": 8,
   "id": "5d2b7fac",
   "metadata": {},
   "outputs": [],
   "source": [
    "# Handling Missing Values\n",
    "df[\"Population\"].fillna(df[\"Population\"].mean(), inplace=True)"
   ]
  },
  {
   "cell_type": "code",
   "execution_count": 9,
   "id": "bd75b61a",
   "metadata": {},
   "outputs": [],
   "source": [
    "df[\"Hepatitis B\"].fillna(df[\"Hepatitis B\"].mean(), inplace=True)"
   ]
  },
  {
   "cell_type": "code",
   "execution_count": 10,
   "id": "a495adb7",
   "metadata": {},
   "outputs": [],
   "source": [
    "df[\"Polio\"].fillna(df[\"Polio\"].mean(), inplace=True)\n",
    "df[\"Diphtheria\"].fillna(df[\"Diphtheria\"].mean(), inplace=True)\n",
    "df[\"Total expenditure\"].fillna(df[\"Total expenditure\"].mean(), inplace=True)\n",
    "df[\"GDP\"].fillna(df[\"GDP\"].mean(), inplace=True)\n",
    "df[\"BMI\"].fillna(df[\"BMI\"].mean(), inplace=True)\n",
    "df[\"thinness  1-19 years\"].fillna(df[\"thinness  1-19 years\"].mean(), inplace=True)\n",
    "df[\"Alcohol\"].fillna(df[\"Alcohol\"].mean(), inplace=True)\n",
    "df[\"Schooling\"].fillna(df[\"Schooling\"].mean(), inplace=True)"
   ]
  },
  {
   "cell_type": "code",
   "execution_count": 11,
   "id": "8fc0f2ad",
   "metadata": {},
   "outputs": [
    {
     "name": "stdout",
     "output_type": "stream",
     "text": [
      "       Country  Year      Status  Population  Hepatitis B  Measles  Polio  \\\n",
      "0  Afghanistan  2015  Developing  33736494.0         65.0     1154    6.0   \n",
      "1  Afghanistan  2014  Developing    327582.0         62.0      492   58.0   \n",
      "2  Afghanistan  2013  Developing  31731688.0         64.0      430   62.0   \n",
      "3  Afghanistan  2012  Developing   3696958.0         67.0     2787   67.0   \n",
      "4  Afghanistan  2011  Developing   2978599.0         68.0     3013   68.0   \n",
      "\n",
      "   Diphtheria  HIV/AIDS  infant deaths  under-five deaths  Total expenditure  \\\n",
      "0        65.0       0.1             62                 83               8.16   \n",
      "1        62.0       0.1             64                 86               8.18   \n",
      "2        64.0       0.1             66                 89               8.13   \n",
      "3        67.0       0.1             69                 93               8.52   \n",
      "4        68.0       0.1             71                 97               7.87   \n",
      "\n",
      "          GDP   BMI  thinness  1-19 years  Alcohol  Schooling  Life expectancy  \n",
      "0  584.259210  19.1                  17.2     0.01       10.1             65.0  \n",
      "1  612.696514  18.6                  17.5     0.01       10.0             59.9  \n",
      "2  631.744976  18.1                  17.7     0.01        9.9             59.9  \n",
      "3  669.959000  17.6                  17.9     0.01        9.8             59.5  \n",
      "4   63.537231  17.2                  18.2     0.01        9.5             59.2  \n"
     ]
    }
   ],
   "source": [
    "print(df.head())"
   ]
  },
  {
   "cell_type": "code",
   "execution_count": 12,
   "id": "924025ad",
   "metadata": {},
   "outputs": [],
   "source": [
    "# Checking the missing values again\n",
    "#missing_values = df.isnull().sum()\n",
    "#print(missing_values)"
   ]
  },
  {
   "cell_type": "code",
   "execution_count": 16,
   "id": "99e3787c",
   "metadata": {},
   "outputs": [
    {
     "data": {
      "image/png": "[encoded data removed]",
      "text/plain": [
       "<Figure size 432x288 with 1 Axes>"
      ]
     },
     "metadata": {
      "needs_background": "light"
     },
     "output_type": "display_data"
    }
   ],
   "source": [
    "# Key findings and insights\n",
    "sns.scatterplot(x='GDP', y='Life expectancy', data=df)\n",
    "plt.title('GDP vs. Life Expectancy')\n",
    "plt.xlabel('GDP')\n",
    "plt.ylabel('Life expectancy')\n",
    "plt.show()"
   ]
  },
  {
   "cell_type": "code",
   "execution_count": 17,
   "id": "1f0bdaca",
   "metadata": {},
   "outputs": [],
   "source": [
    "# Hypothesis Formulation\n",
    "schooling_hypothesis = \"Higher schooling levels are positively associated with life expectancy\"\n",
    "healthcare_hypothesis = \"Countries with higher healthcare expenditure per capita have higher life expectancy\"\n",
    "tech_hypothesis = \"Countries with higher healthcare expenditure per capita have higher life expectancy\""
   ]
  },
  {
   "cell_type": "code",
   "execution_count": 20,
   "id": "4f03d2be",
   "metadata": {},
   "outputs": [
    {
     "name": "stdout",
     "output_type": "stream",
     "text": [
      "The t-statistic is 44.92 and the p-value is 0.0000\n",
      "The relationship between education and life expectancy is statistically significant\n"
     ]
    }
   ],
   "source": [
    "# Significance Test\n",
    "schooling_group = df[df['Schooling'] >= df['Schooling'].mean()]\n",
    "non_schooling_group = df[df['Schooling'] < df['Schooling'].mean()]\n",
    "\n",
    "t_stat, p_value = ttest_ind(schooling_group['Life expectancy'], non_schooling_group['Life expectancy'])\n",
    "if p_value<0.5:\n",
    "    result = (\"statistically significant\")\n",
    "else:\n",
    "    result = (\"Not statistically significant\")\n",
    "    \n",
    "print(f\"The t-statistic is {t_stat:.2f} and the p-value is {p_value:.4f}\")\n",
    "print(f\"The relationship between education and life expectancy is {result}\")"
   ]
  },
  {
   "cell_type": "code",
   "execution_count": 23,
   "id": "da41840c",
   "metadata": {},
   "outputs": [
    {
     "data": {
      "image/png": "[encoded data removed]",
      "text/plain": [
       "<Figure size 432x288 with 1 Axes>"
      ]
     },
     "metadata": {
      "needs_background": "light"
     },
     "output_type": "display_data"
    }
   ],
   "source": [
    "# Suggestions for next steps\n",
    "# Time Series Analysis\n",
    "time_series_data = df.groupby('Year').mean()\n",
    "time_series_data['Life expectancy'].plot()\n",
    "plt.title('Trends in Life Expectancy over Time')\n",
    "plt.show()"
   ]
  },
  {
   "cell_type": "code",
   "execution_count": 26,
   "id": "e3806ad9",
   "metadata": {},
   "outputs": [
    {
     "name": "stdout",
     "output_type": "stream",
     "text": [
      "                            OLS Regression Results                            \n",
      "==============================================================================\n",
      "Dep. Variable:        Life expectancy   R-squared:                       0.529\n",
      "Model:                            OLS   Adj. R-squared:                  0.529\n",
      "Method:                 Least Squares   F-statistic:                     1066.\n",
      "Date:                Fri, 30 Jun 2023   Prob (F-statistic):               0.00\n",
      "Time:                        23:26:50   Log-Likelihood:                -9387.9\n",
      "No. Observations:                2848   AIC:                         1.878e+04\n",
      "Df Residuals:                    2844   BIC:                         1.881e+04\n",
      "Df Model:                           3                                         \n",
      "Covariance Type:            nonrobust                                         \n",
      "=====================================================================================\n",
      "                        coef    std err          t      P>|t|      [0.025      0.975]\n",
      "-------------------------------------------------------------------------------------\n",
      "const                44.7118      0.535     83.597      0.000      43.663      45.760\n",
      "GDP                   0.0001   1.02e-05     10.499      0.000    8.71e-05       0.000\n",
      "Total expenditure     0.1795      0.052      3.421      0.001       0.077       0.282\n",
      "Schooling             1.8863      0.043     43.911      0.000       1.802       1.971\n",
      "==============================================================================\n",
      "Omnibus:                      303.464   Durbin-Watson:                   0.278\n",
      "Prob(Omnibus):                  0.000   Jarque-Bera (JB):              684.147\n",
      "Skew:                          -0.643   Prob(JB):                    2.75e-149\n",
      "Kurtosis:                       5.028   Cond. No.                     6.71e+04\n",
      "==============================================================================\n",
      "\n",
      "Notes:\n",
      "[1] Standard Errors assume that the covariance matrix of the errors is correctly specified.\n",
      "[2] The condition number is large, 6.71e+04. This might indicate that there are\n",
      "strong multicollinearity or other numerical problems.\n"
     ]
    }
   ],
   "source": [
    "# Multivariate regression analysis\n",
    "X = df[['GDP', 'Total expenditure', 'Schooling']]\n",
    "X = sm.add_constant(X)\n",
    "y = df['Life expectancy']\n",
    "\n",
    "model = sm.OLS(y, X).fit()\n",
    "print(model.summary())"
   ]
  },
  {
   "cell_type": "code",
   "execution_count": null,
   "id": "807005a9",
   "metadata": {},
   "outputs": [],
   "source": []
  }
 ],
 "metadata": {
  "kernelspec": {
   "display_name": "Python 3 (ipykernel)",
   "language": "python",
   "name": "python3"
  },
  "language_info": {
   "codemirror_mode": {
    "name": "ipython",
    "version": 3
   },
   "file_extension": ".py",
   "mimetype": "text/x-python",
   "name": "python",
   "nbconvert_exporter": "python",
   "pygments_lexer": "ipython3",
   "version": "3.9.12"
  }
 },
 "nbformat": 4,
 "nbformat_minor": 5
}
